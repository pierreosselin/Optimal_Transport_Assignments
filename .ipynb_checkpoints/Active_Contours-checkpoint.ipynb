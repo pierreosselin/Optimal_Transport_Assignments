{
 "metadata": {
  "name": "",
  "signature": "sha256:4c88829b3b164902f58d411e56ccfd53a9700a0da1c0f0a51a138cd9de7cceb5"
 },
 "nbformat": 3,
 "nbformat_minor": 0,
 "worksheets": [
  {
   "cells": [
    {
     "cell_type": "heading",
     "level": 1,
     "metadata": {},
     "source": [
      "Active Contours using Parameteric Curves"
     ]
    },
    {
     "cell_type": "markdown",
     "metadata": {},
     "source": [
      "This tour explores image segmentation using parametric active contours.\n",
      "$\\newcommand{\\dotp}[2]{\\langle #1, #2 \\rangle}\n",
      "\\newcommand{\\qandq}{\\quad\\text{and}\\quad}\n",
      "\\newcommand{\\qwhereq}{\\quad\\text{where}\\quad}\n",
      "\\newcommand{\\qifq}{ \\quad \\text{if} \\quad }\n",
      "\\newcommand{\\ZZ}{\\mathbb{Z}}\n",
      "\\newcommand{\\RR}{\\mathbb{R}}\n",
      "\\newcommand{\\CC}{\\mathbb{C}}\n",
      "\\newcommand{\\pa}[1]{\\left(#1\\right)}\n",
      "\\newcommand{\\si}{\\sigma}\n",
      "\\newcommand{\\Nn}{\\mathcal{N}}\n",
      "\\newcommand{\\Bb}{\\mathcal{B}}\n",
      "\\newcommand{\\EE}{\\mathbb{E}}\n",
      "\\newcommand{\\norm}[1]{\\|#1\\|}\n",
      "\\newcommand{\\abs}[1]{\\left|#1\\right|}\n",
      "\\newcommand{\\choice}[1]{ \\left\\{  \\begin{array}{l} #1 \\end{array} \\right. }\n",
      "\\newcommand{\\al}{\\alpha}\n",
      "\\newcommand{\\la}{\\lambda}\n",
      "\\newcommand{\\ga}{\\gamma}\n",
      "\\newcommand{\\Ga}{\\Gamma}\n",
      "\\newcommand{\\La}{\\Lambda}\n",
      "\\newcommand{\\si}{\\sigma}\n",
      "\\newcommand{\\Si}{\\Sigma}\n",
      "\\newcommand{\\be}{\\beta}\n",
      "\\newcommand{\\de}{\\delta}\n",
      "\\newcommand{\\De}{\\Delta}\n",
      "\\renewcommand{\\phi}{\\varphi}\n",
      "\\renewcommand{\\th}{\\theta}\n",
      "\\newcommand{\\om}{\\omega}\n",
      "\\newcommand{\\Om}{\\Omega}\n",
      "$"
     ]
    },
    {
     "cell_type": "markdown",
     "metadata": {},
     "source": [
      "*Important:* You need to download the file `nt_toolbox.py` from the \n",
      "root of the github repository. "
     ]
    },
    {
     "cell_type": "code",
     "collapsed": false,
     "input": [
      "from nt_toolbox import *\n",
      "%load_ext autoreload\n",
      "%autoreload 2"
     ],
     "language": "python",
     "metadata": {},
     "outputs": [
      {
       "output_type": "stream",
       "stream": "stdout",
       "text": [
        "The autoreload extension is already loaded. To reload it, use:\n",
        "  %reload_ext autoreload\n"
       ]
      }
     ],
     "prompt_number": 196
    },
    {
     "cell_type": "markdown",
     "metadata": {},
     "source": [
      "Parameteric Curves\n",
      "-------------------\n",
      "\n",
      "In this tours, the active contours are represented using parametric\n",
      "curve $ \\ga : [0,1] \\rightarrow \\RR^2 $. \n",
      "\n",
      "\n",
      "This curve is discretized using a piewise linear curve with \n",
      "$p$ segments, and is stored as a complex vector of points in the plane\n",
      "$\\ga \\in \\CC^p$.\n",
      "\n",
      "Initial polygon."
     ]
    },
    {
     "cell_type": "code",
     "collapsed": false,
     "input": [
      "gamma0 = array([.78, .14, .42, .18, .32, .16, .75, .83, .57, .68, .46, .40, .72, .79, .91, .90]) + 1j*array([.87, .82, .75, .63, .34, .17, .08, .46, .50, .25, .27, .57, .73, .57, .75, .79])"
     ],
     "language": "python",
     "metadata": {},
     "outputs": [],
     "prompt_number": 1
    },
    {
     "cell_type": "markdown",
     "metadata": {},
     "source": [
      "Display the initial curve."
     ]
    },
    {
     "cell_type": "code",
     "collapsed": false,
     "input": [
      "def periodize(gamma): return concatenate((gamma, [gamma[0]]));\n",
      "def cplot(gamma,s='b',lw=1): plot(real(periodize(gamma)), imag(periodize(gamma)), s, linewidth=lw); axis('equal'); axis('off');\n",
      "cplot(gamma0,'b.-'); "
     ],
     "language": "python",
     "metadata": {},
     "outputs": [
      {
       "metadata": {},
       "output_type": "display_data",
       "png": "[encoded data removed]",
       "text": [
        "<matplotlib.figure.Figure at 0x108022410>"
       ]
      }
     ],
     "prompt_number": 2
    },
    {
     "cell_type": "markdown",
     "metadata": {},
     "source": [
      "Number of points of the discrete curve."
     ]
    },
    {
     "cell_type": "code",
     "collapsed": false,
     "input": [
      "p = 256;"
     ],
     "language": "python",
     "metadata": {},
     "outputs": [],
     "prompt_number": 3
    },
    {
     "cell_type": "markdown",
     "metadata": {},
     "source": [
      "Shortcut to re-sample a curve according to arc length."
     ]
    },
    {
     "cell_type": "code",
     "collapsed": false,
     "input": [
      "def interpc(x,xf,yf): return interp(x,xf,real(yf)) + 1j * interp(x,xf,imag(yf));\n",
      "def curvabs(gamma): return concatenate( ([0], cumsum( 1e-5 + abs(gamma[:-1:]-gamma[1::]) ) ) );\n",
      "def resample1(gamma,d): return interpc(arange(0,p)/float(p),  d/d[-1],gamma);\n",
      "def resample(gamma): return resample1( periodize(gamma), curvabs(periodize(gamma)) );"
     ],
     "language": "python",
     "metadata": {},
     "outputs": [],
     "prompt_number": 4
    },
    {
     "cell_type": "markdown",
     "metadata": {},
     "source": [
      "Initial curve $ \\ga_1(t)$."
     ]
    },
    {
     "cell_type": "code",
     "collapsed": false,
     "input": [
      "gamma1 = resample(gamma0);"
     ],
     "language": "python",
     "metadata": {},
     "outputs": [],
     "prompt_number": 5
    },
    {
     "cell_type": "markdown",
     "metadata": {},
     "source": [
      "Display the initial curve."
     ]
    },
    {
     "cell_type": "code",
     "collapsed": false,
     "input": [
      "cplot(gamma1, 'k');"
     ],
     "language": "python",
     "metadata": {},
     "outputs": [
      {
       "metadata": {},
       "output_type": "display_data",
       "png": "[encoded data removed]",
       "text": [
        "<matplotlib.figure.Figure at 0x1084d0f90>"
       ]
      }
     ],
     "prompt_number": 6
    },
    {
     "cell_type": "markdown",
     "metadata": {},
     "source": [
      "Shortcut for forward and backward finite differences."
     ]
    },
    {
     "cell_type": "code",
     "collapsed": false,
     "input": [
      "def shiftR(c): return concatenate( ([c[-1]],c[:-1:]) );\n",
      "def shiftL(c): return concatenate( (c[1::],[c[0]]) );\n",
      "def BwdDiff(c): return c - shiftR(c);\n",
      "def FwdDiff(c): return shiftL(c) - c;\n",
      "def dotp(c1,c2): return dot(real(c1),real(c2)) + dot(imag(c1),imag(c2));"
     ],
     "language": "python",
     "metadata": {},
     "outputs": [],
     "prompt_number": 7
    },
    {
     "cell_type": "markdown",
     "metadata": {},
     "source": [
      "The tangent to the curve is computed as\n",
      "$$ t_\\ga(s) = \\frac{\\ga'(t)}{\\norm{\\ga'(t)}} $$\n",
      "and the normal is $ n_\\ga(t) = t_\\ga(t)^\\bot. $\n",
      "\n",
      "Shortcut to compute the tangent and the normal to a curve."
     ]
    },
    {
     "cell_type": "code",
     "collapsed": false,
     "input": [
      "def normalize(v): return v/maximum(abs(v),1e-10)\n",
      "def tangent(gamma): return normalize( FwdDiff(gamma) )\n",
      "def normal(gamma): return -1j*tangent(gamma)"
     ],
     "language": "python",
     "metadata": {},
     "outputs": [],
     "prompt_number": 8
    },
    {
     "cell_type": "markdown",
     "metadata": {},
     "source": [
      "Move the curve in the normal direction, by computing $ \\ga_1(t) \\pm \\delta n_{\\ga_1}(t) $."
     ]
    },
    {
     "cell_type": "code",
     "collapsed": false,
     "input": [
      "delta = .03;\n",
      "gamma2 = gamma1 + delta * normal(gamma1);\n",
      "gamma3 = gamma1 - delta * normal(gamma1);"
     ],
     "language": "python",
     "metadata": {},
     "outputs": [],
     "prompt_number": 9
    },
    {
     "cell_type": "markdown",
     "metadata": {},
     "source": [
      "Display the curves."
     ]
    },
    {
     "cell_type": "code",
     "collapsed": false,
     "input": [
      "cplot(gamma1, 'k');\n",
      "cplot(gamma2, 'r--');\n",
      "cplot(gamma3, 'b--');\n",
      "axis('tight'); axis('off');"
     ],
     "language": "python",
     "metadata": {},
     "outputs": [
      {
       "metadata": {},
       "output_type": "display_data",
       "png": "[encoded data removed]",
       "text": [
        "<matplotlib.figure.Figure at 0x108521350>"
       ]
      }
     ],
     "prompt_number": 10
    },
    {
     "cell_type": "heading",
     "level": 2,
     "metadata": {},
     "source": [
      "Evolution by Mean Curvature"
     ]
    },
    {
     "cell_type": "markdown",
     "metadata": {},
     "source": [
      "A curve evolution is a series of curves $ s \\mapsto \\ga_s $ indexed by\n",
      "an evolution parameter $s \\geq 0$. The intial curve $\\ga_0$ for\n",
      "$s=0$ is evolved, usually by minizing some energy $E(\\ga)$ in a gradient descent\n",
      "$$ \\frac{\\partial \\ga_s}{\\partial s} = \\nabla E(\\ga_s). $$\n",
      "\n",
      "\n",
      "Note that the gradient of an energy is defined with respect to the\n",
      "curve-dependent inner product\n",
      "$$ \\dotp{a}{b} = \\int_0^1 \\dotp{a(t)}{b(t)} \\norm{\\ga'(t)} d t.  $$\n",
      "The set of curves can thus be thought as being a Riemannian surface.\n",
      "\n",
      "\n",
      "The simplest evolution is the mean curvature evolution.\n",
      "It corresponds to minimization of the curve length\n",
      "$$ E(\\ga) = \\int_0^1 \\norm{\\ga'(t)} d t $$\n",
      "\n",
      "\n",
      "The gradient of the length is \n",
      "$$ \\nabla E(\\ga)(t) = -\\kappa_\\ga(t) n_\\ga(t)  $$\n",
      "where $ \\kappa_\\ga $ is the curvature, defined as\n",
      "$$ \\kappa_\\ga(t) = \\frac{1}{\\norm{\\ga'(t)}} \\dotp{ t_\\ga'(t) }{ n_\\ga(t) }\u00a0. $$\n",
      "\n",
      "\n",
      "\n",
      "Shortcut for normal times curvature $ \\kappa_\\ga(t) n_\\ga(t) $."
     ]
    },
    {
     "cell_type": "code",
     "collapsed": false,
     "input": [
      "def normalC(gamma): return BwdDiff(tangent(gamma)) / abs( FwdDiff(gamma) )"
     ],
     "language": "python",
     "metadata": {},
     "outputs": [],
     "prompt_number": 11
    },
    {
     "cell_type": "markdown",
     "metadata": {},
     "source": [
      "Time step for the evolution.\n",
      "It should be very small because we use an explicit time stepping and the\n",
      "curve has strong curvature."
     ]
    },
    {
     "cell_type": "code",
     "collapsed": false,
     "input": [
      "dt = 0.001 / 100"
     ],
     "language": "python",
     "metadata": {},
     "outputs": [],
     "prompt_number": 12
    },
    {
     "cell_type": "markdown",
     "metadata": {},
     "source": [
      "Number of iterations."
     ]
    },
    {
     "cell_type": "code",
     "collapsed": false,
     "input": [
      "Tmax = 3.0 / 100\n",
      "niter = round(Tmax/dt)"
     ],
     "language": "python",
     "metadata": {},
     "outputs": [],
     "prompt_number": 13
    },
    {
     "cell_type": "markdown",
     "metadata": {},
     "source": [
      "Initialize the curve for $s=0$."
     ]
    },
    {
     "cell_type": "code",
     "collapsed": false,
     "input": [
      "gamma = gamma1;"
     ],
     "language": "python",
     "metadata": {},
     "outputs": [],
     "prompt_number": 14
    },
    {
     "cell_type": "markdown",
     "metadata": {},
     "source": [
      "Evolution of the curve."
     ]
    },
    {
     "cell_type": "code",
     "collapsed": false,
     "input": [
      "gamma = gamma + dt * normalC(gamma);"
     ],
     "language": "python",
     "metadata": {},
     "outputs": [],
     "prompt_number": 15
    },
    {
     "cell_type": "markdown",
     "metadata": {},
     "source": [
      "To stabilize the evolution, it is important to re-sample the curve so\n",
      "that it is unit-speed parametrized. You do not need to do it every time\n",
      "step though (to speed up)."
     ]
    },
    {
     "cell_type": "code",
     "collapsed": false,
     "input": [
      "gamma = resample(gamma);"
     ],
     "language": "python",
     "metadata": {},
     "outputs": [],
     "prompt_number": 16
    },
    {
     "cell_type": "markdown",
     "metadata": {},
     "source": [
      "Perform the curve evolution.\n",
      "You need to resample it a few times."
     ]
    },
    {
     "cell_type": "code",
     "collapsed": false,
     "input": [
      "gamma = gamma1\n",
      "displist = around(linspace(0,niter,10))\n",
      "k = 0;\n",
      "for i in arange(0,niter+1):\n",
      "    gamma = resample( gamma + dt * normalC(gamma) );\n",
      "    if i==displist[k]:\n",
      "        lw = 1;\n",
      "        if i==0 or i==niter:\n",
      "            lw = 4;\n",
      "        cplot(gamma, 'r', lw);\n",
      "        k = k+1;\n",
      "        axis('tight');  axis('off');"
     ],
     "language": "python",
     "metadata": {},
     "outputs": [
      {
       "metadata": {},
       "output_type": "display_data",
       "png": "[encoded data removed]",
       "text": [
        "<matplotlib.figure.Figure at 0x1085444d0>"
       ]
      }
     ],
     "prompt_number": 17
    },
    {
     "cell_type": "heading",
     "level": 2,
     "metadata": {},
     "source": [
      "Geodesic Active Contours"
     ]
    },
    {
     "cell_type": "markdown",
     "metadata": {},
     "source": [
      "Geodesic active contours minimize a weighted length\n",
      "$$ E(\\ga) = \\int_0^1 W(\\ga(t)) \\norm{\\ga'(t)} d t, $$\n",
      "where $W(x)>0$ is the geodesic metric, that should be small in areas\n",
      "where the image should be segmented."
     ]
    },
    {
     "cell_type": "markdown",
     "metadata": {},
     "source": [
      "Create a synthetic weight $W(x)$."
     ]
    },
    {
     "cell_type": "code",
     "collapsed": false,
     "input": [
      "n = 200;\n",
      "nbumps = 40;\n",
      "theta = random.rand(nbumps,1)*2*pi;\n",
      "r = .6*n/2; \n",
      "a = array([.62*n,.6*n]);\n",
      "x = around( a[0] + r*cos(theta) );\n",
      "y = around( a[1] + r*sin(theta) );\n",
      "W = zeros([n,n]); \n",
      "for i in arange(0,nbumps):\n",
      "    W[int(x[i]),int(y[i])] = 1;\n",
      "W = gaussian_blur(W,6.0);\n",
      "W = rescale( -minimum(W,.05), .3,1);"
     ],
     "language": "python",
     "metadata": {},
     "outputs": [],
     "prompt_number": 154
    },
    {
     "cell_type": "markdown",
     "metadata": {},
     "source": [
      "Display the metric $W$."
     ]
    },
    {
     "cell_type": "code",
     "collapsed": false,
     "input": [
      "imageplot(W);"
     ],
     "language": "python",
     "metadata": {},
     "outputs": [
      {
       "metadata": {},
       "output_type": "display_data",
       "png": "[encoded data removed]",
       "text": [
        "<matplotlib.figure.Figure at 0x10a714dd0>"
       ]
      }
     ],
     "prompt_number": 156
    },
    {
     "cell_type": "markdown",
     "metadata": {},
     "source": [
      "Pre-compute the gradient $\\nabla W(x)$ of the metric."
     ]
    },
    {
     "cell_type": "code",
     "collapsed": false,
     "input": [
      "G = grad(W);\n",
      "G = G[:,:,0] + 1j*G[:,:,1];"
     ],
     "language": "python",
     "metadata": {},
     "outputs": [],
     "prompt_number": 180
    },
    {
     "cell_type": "markdown",
     "metadata": {},
     "source": [
      "Display the image of the magnitude $\\norm{\\nabla W(x)}$ of the gradient."
     ]
    },
    {
     "cell_type": "code",
     "collapsed": false,
     "input": [
      "imageplot(abs(G))"
     ],
     "language": "python",
     "metadata": {},
     "outputs": [
      {
       "metadata": {},
       "output_type": "display_data",
       "png": "[encoded data removed]",
       "text": [
        "<matplotlib.figure.Figure at 0x10a6e5b50>"
       ]
      }
     ],
     "prompt_number": 182
    },
    {
     "cell_type": "markdown",
     "metadata": {},
     "source": [
      "def EvalG(gamma): interp(1:n,1:n, G, imag(gamma), real(gamma));\n",
      "def EvalW(gamma): interp(1:n,1:n, W, imag(gamma), real(gamma));"
     ]
    },
    {
     "cell_type": "code",
     "collapsed": false,
     "input": [
      "x = linspace(0,10,5)\n",
      "y = linspace(0,6,5)\n",
      "x = [0.5, 2]\n",
      "y =  [0.5, 1]\n",
      "interp2([],[],f,x,y)\n",
      "print x,y\n",
      "print [x,y]"
     ],
     "language": "python",
     "metadata": {},
     "outputs": [
      {
       "ename": "RuntimeError",
       "evalue": "input and output rank must be > 0",
       "output_type": "pyerr",
       "traceback": [
        "\u001b[0;31m---------------------------------------------------------------------------\u001b[0m\n\u001b[0;31mRuntimeError\u001b[0m                              Traceback (most recent call last)",
        "\u001b[0;32m<ipython-input-201-b8baedde3359>\u001b[0m in \u001b[0;36m<module>\u001b[0;34m()\u001b[0m\n\u001b[1;32m      3\u001b[0m \u001b[0mx\u001b[0m \u001b[0;34m=\u001b[0m \u001b[0;34m[\u001b[0m\u001b[0;36m0.5\u001b[0m\u001b[0;34m,\u001b[0m \u001b[0;36m2\u001b[0m\u001b[0;34m]\u001b[0m\u001b[0;34m\u001b[0m\u001b[0m\n\u001b[1;32m      4\u001b[0m \u001b[0my\u001b[0m \u001b[0;34m=\u001b[0m  \u001b[0;34m[\u001b[0m\u001b[0;36m0.5\u001b[0m\u001b[0;34m,\u001b[0m \u001b[0;36m1\u001b[0m\u001b[0;34m]\u001b[0m\u001b[0;34m\u001b[0m\u001b[0m\n\u001b[0;32m----> 5\u001b[0;31m \u001b[0minterp2\u001b[0m\u001b[0;34m(\u001b[0m\u001b[0;34m[\u001b[0m\u001b[0;34m]\u001b[0m\u001b[0;34m,\u001b[0m\u001b[0;34m[\u001b[0m\u001b[0;34m]\u001b[0m\u001b[0;34m,\u001b[0m\u001b[0mf\u001b[0m\u001b[0;34m,\u001b[0m\u001b[0mx\u001b[0m\u001b[0;34m,\u001b[0m\u001b[0my\u001b[0m\u001b[0;34m)\u001b[0m\u001b[0;34m\u001b[0m\u001b[0m\n\u001b[0m\u001b[1;32m      6\u001b[0m \u001b[0;32mprint\u001b[0m \u001b[0mx\u001b[0m\u001b[0;34m,\u001b[0m\u001b[0my\u001b[0m\u001b[0;34m\u001b[0m\u001b[0m\n\u001b[1;32m      7\u001b[0m \u001b[0;32mprint\u001b[0m \u001b[0;34m[\u001b[0m\u001b[0mx\u001b[0m\u001b[0;34m,\u001b[0m\u001b[0my\u001b[0m\u001b[0;34m]\u001b[0m\u001b[0;34m\u001b[0m\u001b[0m\n",
        "\u001b[0;32m/Users/gpeyre/Dropbox/github/numerical-tours/python/nt_toolbox.py\u001b[0m in \u001b[0;36minterp2\u001b[0;34m(x, y, f, xi, yi, k)\u001b[0m\n\u001b[1;32m    275\u001b[0m                 \u001b[0minterp2\u001b[0m\u001b[0;34m(\u001b[0m\u001b[0;36m1\u001b[0m\u001b[0;34m:\u001b[0m\u001b[0mn\u001b[0m\u001b[0;34m,\u001b[0m\u001b[0;36m1\u001b[0m\u001b[0;34m:\u001b[0m\u001b[0mn\u001b[0m\u001b[0;34m,\u001b[0m \u001b[0mG\u001b[0m\u001b[0;34m,\u001b[0m \u001b[0mimag\u001b[0m\u001b[0;34m(\u001b[0m\u001b[0mgamma\u001b[0m\u001b[0;34m)\u001b[0m\u001b[0;34m,\u001b[0m \u001b[0mreal\u001b[0m\u001b[0;34m(\u001b[0m\u001b[0mgamma\u001b[0m\u001b[0;34m)\u001b[0m\u001b[0;34m)\u001b[0m\u001b[0;34m;\u001b[0m\u001b[0;34m\u001b[0m\u001b[0m\n\u001b[1;32m    276\u001b[0m \t\"\"\"\n\u001b[0;32m--> 277\u001b[0;31m         \u001b[0;32mreturn\u001b[0m \u001b[0mndimage\u001b[0m\u001b[0;34m.\u001b[0m\u001b[0mmap_coordinates\u001b[0m\u001b[0;34m(\u001b[0m\u001b[0mf\u001b[0m\u001b[0;34m,\u001b[0m \u001b[0;34m[\u001b[0m\u001b[0mx\u001b[0m\u001b[0;34m,\u001b[0m \u001b[0my\u001b[0m\u001b[0;34m]\u001b[0m\u001b[0;34m,\u001b[0m \u001b[0morder\u001b[0m\u001b[0;34m=\u001b[0m\u001b[0mk\u001b[0m\u001b[0;34m)\u001b[0m\u001b[0;34m;\u001b[0m\u001b[0;34m\u001b[0m\u001b[0m\n\u001b[0m\u001b[1;32m    278\u001b[0m \u001b[0;34m\u001b[0m\u001b[0m\n\u001b[1;32m    279\u001b[0m \u001b[0;32mdef\u001b[0m \u001b[0mgrad\u001b[0m\u001b[0;34m(\u001b[0m\u001b[0mf\u001b[0m\u001b[0;34m)\u001b[0m\u001b[0;34m:\u001b[0m\u001b[0;34m\u001b[0m\u001b[0m\n",
        "\u001b[0;32m/Users/gpeyre/anaconda/lib/python2.7/site-packages/scipy/ndimage/interpolation.pyc\u001b[0m in \u001b[0;36mmap_coordinates\u001b[0;34m(input, coordinates, output, order, mode, cval, prefilter)\u001b[0m\n\u001b[1;32m    295\u001b[0m     \u001b[0moutput_shape\u001b[0m \u001b[0;34m=\u001b[0m \u001b[0mcoordinates\u001b[0m\u001b[0;34m.\u001b[0m\u001b[0mshape\u001b[0m\u001b[0;34m[\u001b[0m\u001b[0;36m1\u001b[0m\u001b[0;34m:\u001b[0m\u001b[0;34m]\u001b[0m\u001b[0;34m\u001b[0m\u001b[0m\n\u001b[1;32m    296\u001b[0m     \u001b[0;32mif\u001b[0m \u001b[0minput\u001b[0m\u001b[0;34m.\u001b[0m\u001b[0mndim\u001b[0m \u001b[0;34m<\u001b[0m \u001b[0;36m1\u001b[0m \u001b[0;32mor\u001b[0m \u001b[0mlen\u001b[0m\u001b[0;34m(\u001b[0m\u001b[0moutput_shape\u001b[0m\u001b[0;34m)\u001b[0m \u001b[0;34m<\u001b[0m \u001b[0;36m1\u001b[0m\u001b[0;34m:\u001b[0m\u001b[0;34m\u001b[0m\u001b[0m\n\u001b[0;32m--> 297\u001b[0;31m         \u001b[0;32mraise\u001b[0m \u001b[0mRuntimeError\u001b[0m\u001b[0;34m(\u001b[0m\u001b[0;34m'input and output rank must be > 0'\u001b[0m\u001b[0;34m)\u001b[0m\u001b[0;34m\u001b[0m\u001b[0m\n\u001b[0m\u001b[1;32m    298\u001b[0m     \u001b[0;32mif\u001b[0m \u001b[0mcoordinates\u001b[0m\u001b[0;34m.\u001b[0m\u001b[0mshape\u001b[0m\u001b[0;34m[\u001b[0m\u001b[0;36m0\u001b[0m\u001b[0;34m]\u001b[0m \u001b[0;34m!=\u001b[0m \u001b[0minput\u001b[0m\u001b[0;34m.\u001b[0m\u001b[0mndim\u001b[0m\u001b[0;34m:\u001b[0m\u001b[0;34m\u001b[0m\u001b[0m\n\u001b[1;32m    299\u001b[0m         \u001b[0;32mraise\u001b[0m \u001b[0mRuntimeError\u001b[0m\u001b[0;34m(\u001b[0m\u001b[0;34m'invalid shape for coordinate array'\u001b[0m\u001b[0;34m)\u001b[0m\u001b[0;34m\u001b[0m\u001b[0m\n",
        "\u001b[0;31mRuntimeError\u001b[0m: input and output rank must be > 0"
       ]
      }
     ],
     "prompt_number": 201
    },
    {
     "cell_type": "markdown",
     "metadata": {},
     "source": []
    },
    {
     "cell_type": "code",
     "collapsed": false,
     "input": [],
     "language": "python",
     "metadata": {},
     "outputs": []
    },
    {
     "cell_type": "markdown",
     "metadata": {},
     "source": []
    },
    {
     "cell_type": "code",
     "collapsed": false,
     "input": [],
     "language": "python",
     "metadata": {},
     "outputs": []
    },
    {
     "cell_type": "markdown",
     "metadata": {},
     "source": []
    },
    {
     "cell_type": "code",
     "collapsed": false,
     "input": [],
     "language": "python",
     "metadata": {},
     "outputs": []
    },
    {
     "cell_type": "markdown",
     "metadata": {},
     "source": []
    },
    {
     "cell_type": "code",
     "collapsed": false,
     "input": [],
     "language": "python",
     "metadata": {},
     "outputs": []
    },
    {
     "cell_type": "markdown",
     "metadata": {},
     "source": []
    },
    {
     "cell_type": "code",
     "collapsed": false,
     "input": [],
     "language": "python",
     "metadata": {},
     "outputs": []
    },
    {
     "cell_type": "markdown",
     "metadata": {},
     "source": []
    },
    {
     "cell_type": "code",
     "collapsed": false,
     "input": [],
     "language": "python",
     "metadata": {},
     "outputs": []
    },
    {
     "cell_type": "markdown",
     "metadata": {},
     "source": []
    },
    {
     "cell_type": "code",
     "collapsed": false,
     "input": [],
     "language": "python",
     "metadata": {},
     "outputs": []
    },
    {
     "cell_type": "markdown",
     "metadata": {},
     "source": []
    },
    {
     "cell_type": "code",
     "collapsed": false,
     "input": [],
     "language": "python",
     "metadata": {},
     "outputs": []
    }
   ],
   "metadata": {}
  }
 ]
}
{
 "metadata": {
  "name": "",
  "signature": "sha256:3d0a4f1f8d243fe7eba440efa4a3c8b12047e3de453c77378188880bf16d9eef"
 },
 "nbformat": 3,
 "nbformat_minor": 0,
 "worksheets": [
  {
   "cells": [
    {
     "cell_type": "code",
     "collapsed": false,
     "input": [],
     "language": "python",
     "metadata": {},
     "outputs": []
    }
   ],
   "metadata": {}
  }
 ]
}
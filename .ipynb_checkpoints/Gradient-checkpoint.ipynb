{
 "metadata": {
  "name": "",
  "signature": "sha256:91a282d85dd9dd16df5d572f0736c8a2a9c8b07d750764d3fd58bef6837df904"
 },
 "nbformat": 3,
 "nbformat_minor": 0,
 "worksheets": [
  {
   "cells": [
    {
     "cell_type": "markdown",
     "metadata": {
      "slideshow": {
       "slide_type": "slide"
      }
     },
     "source": [
      "Exercice 1 :\n",
      "\n",
      "Impl\u00e9menter une m\u00e9thode *grad_descent(J, dJ, rho, xinit, niter)* qui retourne un triplet *(xres, Js, xs)* correspondant respectivement\n",
      "\n",
      "- *xres* -> it\u00e9ration *niter* de l'algorithme de descente de gradient \u00e0 pas fixe *rho*\n",
      "- *Js*   -> les *niter* valeurs de *J*\n",
      "- *xs*   -> les *niter* it\u00e9rations\n",
      "\n",
      "On rappelle que\n",
      "$$ x_{k+1} = x_k - \\rho \\nabla J(x_k) $$"
     ]
    },
    {
     "cell_type": "code",
     "collapsed": false,
     "input": [
      "def grad_descent(J, dJ, rho, xinit, niter=50):\n",
      "    xres = xinit.copy()\n",
      "    Js = zeros((niter,1))\n",
      "    xs = zeros((2,niter))\n",
      "    for i in range(niter):\n",
      "        xres = xres - rho * dJ(xres)\n",
      "        Js[i] = J(xres)\n",
      "        xs[:,i] = xres[:,0]\n",
      "    return (xres, Js, xs)"
     ],
     "language": "python",
     "metadata": {
      "slideshow": {
       "slide_type": "fragment"
      }
     },
     "outputs": [],
     "prompt_number": 1
    },
    {
     "cell_type": "markdown",
     "metadata": {
      "slideshow": {
       "slide_type": "slide"
      }
     },
     "source": [
      "On s'int\u00e9resse ici \u00e0 la minimisation de la fonction $J(x) = \\frac{1}{2} (x_0^2 + \\eta x_1^2)$\n",
      "\n",
      "Exercice 2 :\n",
      "\n",
      "Impl\u00e9meter deux fonctions anonymes retournant\n",
      "\n",
      "- La valeur $J(x)$\n",
      "- Le vecteur $\\nabla J(x)$"
     ]
    },
    {
     "cell_type": "code",
     "collapsed": false,
     "input": [
      "eta = 10\n",
      "J = lambda x : ( x[0,0]**2 + eta*x[1,0]**2 ) / 2\n",
      "dJ = lambda x : array([[x[0,0]],[eta*x[1,0]]])"
     ],
     "language": "python",
     "metadata": {
      "slideshow": {
       "slide_type": "fragment"
      }
     },
     "outputs": [],
     "prompt_number": 2
    },
    {
     "cell_type": "markdown",
     "metadata": {
      "slideshow": {
       "slide_type": "slide"
      }
     },
     "source": [
      "Exercice 3 :\n",
      "\n",
      "Afficher les lignes de niveau de $J$ pour des valeurs de coordonn\u00e9es comprises entre -1/2 et +1/2.\n",
      "On s'aidera de la fonction *contourf*."
     ]
    },
    {
     "cell_type": "code",
     "collapsed": false,
     "input": [
      "t = linspace(-.5,.5,101)\n",
      "[u,v] = meshgrid(t,t);\n",
      "Jmesh = ( u * u + eta * v * v)\n",
      "contourf(u,v,Jmesh,35)"
     ],
     "language": "python",
     "metadata": {
      "slideshow": {
       "slide_type": "fragment"
      }
     },
     "outputs": [
      {
       "metadata": {},
       "output_type": "pyout",
       "prompt_number": 3,
       "text": [
        "<matplotlib.contour.QuadContourSet instance at 0x107c4f3f8>"
       ]
      },
      {
       "metadata": {},
       "output_type": "display_data",
       "png": "[encoded data removed]",
       "text": [
        "<matplotlib.figure.Figure at 0x10778f390>"
       ]
      }
     ],
     "prompt_number": 3
    },
    {
     "cell_type": "markdown",
     "metadata": {
      "slideshow": {
       "slide_type": "slide"
      }
     },
     "source": [
      "Exercice 4 :\n",
      "\n",
      "Appliquer la m\u00e9thode du gradient \u00e0 pas constant \u00e0 la fonction $J$.\n",
      "Afficher d'une part l'\u00e9volution de la fonction objective et, d'autre part (bonus), les it\u00e9rations $x_k$ sur les lignes de niveau de $J$."
     ]
    },
    {
     "cell_type": "code",
     "collapsed": false,
     "input": [
      "rho = 1.8 / eta\n",
      "(xres,Js,xs) = grad_descent(J,dJ,rho,randn(2,1),niter=20)\n",
      "subplot(121)\n",
      "plot(Js)\n",
      "subplot(122)\n",
      "contourf(u,v,Jmesh,35)\n",
      "plot(xs[0,:], xs[1,:], 'k.-')"
     ],
     "language": "python",
     "metadata": {
      "slideshow": {
       "slide_type": "fragment"
      }
     },
     "outputs": [
      {
       "metadata": {},
       "output_type": "pyout",
       "prompt_number": 4,
       "text": [
        "[<matplotlib.lines.Line2D at 0x107fca8d0>]"
       ]
      },
      {
       "metadata": {},
       "output_type": "display_data",
       "png": "[encoded data removed]",
       "text": [
        "<matplotlib.figure.Figure at 0x107d04150>"
       ]
      }
     ],
     "prompt_number": 4
    },
    {
     "cell_type": "markdown",
     "metadata": {},
     "source": [
      "Ceci est un test d'\u00e9quation:\n",
      "$$ z = \\frac{t}{t^2} $$\n",
      "Jolie equations $f^2$. En _italique_."
     ]
    },
    {
     "cell_type": "code",
     "collapsed": false,
     "input": [
      "for i in range(1,5):\n",
      "print(i);\n",
      "print(i+1);\n",
      "print('toto');"
     ],
     "language": "python",
     "metadata": {},
     "outputs": [
      {
       "output_type": "stream",
       "stream": "stdout",
       "text": [
        "1\n",
        "2\n",
        "3\n",
        "4\n",
        "5\n",
        "toto\n"
       ]
      }
     ],
     "prompt_number": 13
    },
    {
     "cell_type": "code",
     "collapsed": false,
     "input": [],
     "language": "python",
     "metadata": {},
     "outputs": []
    }
   ],
   "metadata": {}
  }
 ]
}